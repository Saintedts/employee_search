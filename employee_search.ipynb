{
  "cells": [
    {
      "cell_type": "code",
      "execution_count": null,
      "metadata": {
        "id": "Mvhrw-erW9Ck"
      },
      "outputs": [],
      "source": [
        "import vk_api\n",
        "import requests \n",
        "import json"
      ]
    },
    {
      "cell_type": "code",
      "execution_count": null,
      "metadata": {
        "id": "CLFqaOUQXOVc"
      },
      "outputs": [],
      "source": [
        "token = ''\n",
        "street_beat_id = 79098077"
      ]
    },
    {
      "cell_type": "code",
      "execution_count": null,
      "metadata": {
        "id": "nB-dwKxPZHsn"
      },
      "outputs": [],
      "source": [
        "def create_api_url(method, params):\n",
        "  return f'https://api.vk.com/method/{method}?access_token={token}&v=5.130&{params}'"
      ]
    },
    {
      "cell_type": "code",
      "execution_count": null,
      "metadata": {
        "id": "4qplOKVcXyLi"
      },
      "outputs": [],
      "source": [
        "vk = vk_api.VkApi(token=token).get_api()"
      ]
    },
    {
      "cell_type": "code",
      "execution_count": null,
      "metadata": {
        "id": "zgXymU2mYASF"
      },
      "outputs": [],
      "source": [
        "url_getQtyMembers = create_api_url('groups.getById', f'group_id={street_beat_id}&fields=members_count')\n",
        "qty = requests.get(url_getQtyMembers).json()\n",
        "members_count = qty['response'][0]['members_count']"
      ]
    },
    {
      "cell_type": "code",
      "execution_count": null,
      "metadata": {
        "id": "2xwej2PIZcso"
      },
      "outputs": [],
      "source": [
        "persons_id = []\n",
        "for i in range (0,(members_count // 1000) + 1):\n",
        "  url_getMembers = create_api_url('groups.getMembers',f'group_id={street_beat_id}&offset={i * 1000}')\n",
        "  persons_id = persons_id +  requests.get(url_getMembers).json()['response']['items']"
      ]
    },
    {
      "cell_type": "code",
      "execution_count": null,
      "metadata": {
        "id": "OabRRWQz9f1w"
      },
      "outputs": [],
      "source": [
        "\n",
        "with open(\"persons_id.json\", \"w\") as write_file:\n",
        "    json.dump(persons_id, write_file)"
      ]
    },
    {
      "cell_type": "code",
      "execution_count": null,
      "metadata": {
        "id": "Vw1kTaZRBpeo"
      },
      "outputs": [],
      "source": [
        "with open(\"persons_id.json\", \"r\") as read_file:\n",
        "    persons_id = json.load(read_file)\n"
      ]
    },
    {
      "cell_type": "code",
      "execution_count": null,
      "metadata": {
        "id": "TpSXGmCFZ4lN"
      },
      "outputs": [],
      "source": [
        "persons = []\n",
        "\n",
        "for i in range(1, members_count // 500 + 1):\n",
        "  user_ids = persons_id[i * 1000 - 1000:i * 1000]\n",
        "  res = vk.users.get(user_ids=user_ids, fields='career')\n",
        "  persons += res"
      ]
    },
    {
      "cell_type": "code",
      "execution_count": null,
      "metadata": {
        "id": "AzJKplk4CAUV"
      },
      "outputs": [],
      "source": [
        "with open(\"persons.json\", \"w\") as write_file:\n",
        "    json.dump(persons, write_file)"
      ]
    },
    {
      "cell_type": "code",
      "execution_count": null,
      "metadata": {
        "id": "5k_ZpyoYCXtv"
      },
      "outputs": [],
      "source": [
        "with open(\"persons.json\", \"r\") as read_file:\n",
        "    persons = json.load(read_file)"
      ]
    },
    {
      "cell_type": "code",
      "execution_count": null,
      "metadata": {
        "id": "MdE3tqjyhoIR"
      },
      "outputs": [],
      "source": [
        "persons[3]"
      ]
    },
    {
      "cell_type": "code",
      "execution_count": null,
      "metadata": {
        "id": "PVvj9j8whAO4"
      },
      "outputs": [],
      "source": [
        "users_with_career = list(filter(lambda x: x.get('career'), persons)) "
      ]
    },
    {
      "cell_type": "code",
      "execution_count": null,
      "metadata": {
        "id": "fL6jhZO7fHCq"
      },
      "outputs": [],
      "source": [
        "user_from_group = []\n",
        "\n",
        "for user in users_with_career: \n",
        "  for group in user.get('career'):\n",
        "    user_group_id = group.get('group_id')\n",
        "    if user_group_id == street_beat_id:\n",
        "      user_from_group.append(user)\n",
        "      break"
      ]
    },
    {
      "cell_type": "code",
      "execution_count": null,
      "metadata": {
        "colab": {
          "base_uri": "https://localhost:8080/"
        },
        "id": "FzKEd_aQfcQI",
        "outputId": "cb7591e1-58d9-4c0b-f87b-9bd1cefe603d"
      },
      "outputs": [
        {
          "name": "stdout",
          "output_type": "stream",
          "text": [
            "ID: 7355259 Должность: None\n",
            "ID: 24874094 Должность: None\n",
            "ID: 31015329 Должность: None\n",
            "ID: 34449164 Должность: None\n",
            "ID: 64157537 Должность: None\n",
            "ID: 78913631 Должность: None\n",
            "ID: 84780490 Должность: None\n",
            "ID: 88162583 Должность: Продавец-консультант\n",
            "ID: 110617843 Должность: None\n",
            "ID: 143455607 Должность: None\n",
            "ID: 212504458 Должность: None\n",
            "ID: 303827397 Должность: None\n",
            "ID: 318309828 Должность: Главный по релизам\n",
            "ID: 399322880 Должность: Директор\n",
            "ID: 451985935 Должность: None\n",
            "ID: 548205625 Должность: None\n",
            "ID: 565299566 Должность: None\n",
            "ID: 625170868 Должность: None\n"
          ]
        }
      ],
      "source": [
        "for user in user_from_group:\n",
        "  position = ''\n",
        "  for group in user['career']:\n",
        "    if group.get('group_id') == street_beat_id:\n",
        "      position = group.get('position')\n",
        "      break\n",
        "  print('ID:', user['id'], 'Должность:', position)\n",
        "  "
      ]
    }
  ],
  "metadata": {
    "colab": {
      "name": "web-2021-lab2_v2.ipynb",
      "provenance": []
    },
    "kernelspec": {
      "display_name": "Python 3",
      "name": "python3"
    }
  },
  "nbformat": 4,
  "nbformat_minor": 0
}
